{
 "cells": [
  {
   "cell_type": "markdown",
   "metadata": {},
   "source": [
    "## How to stack/concatenate numpy arrays of any dimension\n",
    "\n",
    "You have the following:\n",
    "r_[]\n",
    "c_[]\n",
    "vstack()\n",
    "hstack()\n",
    "column_stack()\n",
    "stack()\n",
    "concatenate()\n",
    "\n",
    "\n",
    "From <https://stackoverflow.com/questions/33356442/when-should-i-use-hstack-vstack-vs-append-vs-concatenate-vs-column-stack>\n",
    "\n",
    "If you have two matrices, you're good to go with just `hstack` and `vstack`:\n",
    "\n",
    "<img src=\"stacking/stack1.png\" width=\"500\" />\n",
    "\n",
    "\n",
    "If you're stacking a matrice and a vector, `hstack` becomes tricky to use, so `column_stack` is a better option:\n",
    "\n",
    "<img src=\"stacking/stack2.png\" width=\"500\" />\n",
    "\n",
    "\n",
    "If you're stacking two vectors, you've got three options:\n",
    "\n",
    "<img src=\"stacking/stack3.png\" width=\"500\" />\n"
   ]
  },
  {
   "cell_type": "markdown",
   "metadata": {},
   "source": []
  },
  {
   "cell_type": "code",
   "execution_count": 30,
   "metadata": {},
   "outputs": [
    {
     "name": "stdout",
     "output_type": "stream",
     "text": [
      "All equivalent for stacking rows:\n",
      "vstack a + b:\n",
      "[[ 0  1  2  3]\n",
      " [ 4  5  6  7]\n",
      " [ 8  9 10 11]\n",
      " [ 0  1  2  3]\n",
      " [ 4  5  6  7]]\n",
      "\n",
      "r_ a + b:\n",
      "[[ 0  1  2  3]\n",
      " [ 4  5  6  7]\n",
      " [ 8  9 10 11]\n",
      " [ 0  1  2  3]\n",
      " [ 4  5  6  7]]\n",
      "\n",
      "concatenate a + b:\n",
      "[[ 0  1  2  3]\n",
      " [ 4  5  6  7]\n",
      " [ 8  9 10 11]\n",
      " [ 0  1  2  3]\n",
      " [ 4  5  6  7]]\n",
      "\n"
     ]
    }
   ],
   "source": [
    "import numpy as np\n",
    "\n",
    "a = np.arange(12).reshape(3,4)\n",
    "b = np.arange(8).reshape(2,4)\n",
    "\n",
    "print(\"All equivalent for stacking rows:\")\n",
    "print(\"vstack a + b:\", np.vstack((a, b)), sep=\"\\n\", end=\"\\n\\n\")\n",
    "print(\"r_ a + b:\", np.r_[(a, b)], sep=\"\\n\", end=\"\\n\\n\")\n",
    "print(\"concatenate a + b:\", np.concatenate((a, b), axis=0), sep=\"\\n\", end=\"\\n\\n\")\n"
   ]
  },
  {
   "cell_type": "code",
   "execution_count": 32,
   "metadata": {},
   "outputs": [
    {
     "name": "stdout",
     "output_type": "stream",
     "text": [
      "All equivalent for stacking columns:\n",
      "hstack a + c:\n",
      "[[ 0  1  2  3  0  1]\n",
      " [ 4  5  6  7  2  3]\n",
      " [ 8  9 10 11  4  5]]\n",
      "\n",
      "column_stack a + c:\n",
      "[[ 0  1  2  3  0  1]\n",
      " [ 4  5  6  7  2  3]\n",
      " [ 8  9 10 11  4  5]]\n",
      "\n",
      "c_ a + c:\n",
      "[[ 0  1  2  3  0  1]\n",
      " [ 4  5  6  7  2  3]\n",
      " [ 8  9 10 11  4  5]]\n",
      "\n",
      "concatenate a + c:\n",
      "[[ 0  1  2  3  0  1]\n",
      " [ 4  5  6  7  2  3]\n",
      " [ 8  9 10 11  4  5]]\n",
      "\n"
     ]
    }
   ],
   "source": [
    "a = np.arange(12).reshape(3,4)\n",
    "c = np.arange(6).reshape(3,2)\n",
    "\n",
    "print(\"All equivalent for stacking columns:\")\n",
    "print(\"hstack a + c:\", np.hstack((a, c)), sep=\"\\n\", end=\"\\n\\n\")\n",
    "print(\"column_stack a + c:\", np.column_stack((a, c)), sep=\"\\n\", end=\"\\n\\n\")\n",
    "print(\"c_ a + c:\", np.c_[(a, c)], sep=\"\\n\", end=\"\\n\\n\")\n",
    "print(\"concatenate a + c:\", np.concatenate((a, c), axis=1), sep=\"\\n\", end=\"\\n\\n\")\n"
   ]
  },
  {
   "cell_type": "code",
   "execution_count": 44,
   "metadata": {},
   "outputs": [
    {
     "name": "stdout",
     "output_type": "stream",
     "text": [
      "When dealing with vectors and needing to add dims, we can't use concatenate or hstack.\n",
      "When mixing matrices and vectors, can't use stack or r_.\n",
      "vstack, a + b:\n",
      "[[ 0  1  2  3]\n",
      " [ 4  5  6  7]\n",
      " [ 8  9 10 11]\n",
      " [ 0  1  2  3]]\n",
      "\n",
      "We can use c_ for mixing matrices and vectors.\n",
      "column_stack, a + c:\n",
      "[[ 0  1  2  3  0]\n",
      " [ 4  5  6  7  1]\n",
      " [ 8  9 10 11  2]]\n",
      "\n",
      "c_, a + c:\n",
      "[[ 0  1  2  3  0]\n",
      " [ 4  5  6  7  1]\n",
      " [ 8  9 10 11  2]]\n",
      "\n"
     ]
    }
   ],
   "source": [
    "a = np.arange(12).reshape(3,4)\n",
    "b = np.arange(4)\n",
    "c = np.arange(3)\n",
    "print(\"When dealing with vectors and needing to add dims, we can't use concatenate or hstack.\")\n",
    "print(\"When mixing matrices and vectors, can't use stack or r_.\")\n",
    "print(\"vstack, a + b:\", np.vstack((a, b)), sep=\"\\n\", end=\"\\n\\n\")\n",
    "# print(\"stack, a + b:\", np.stack((a, b)), sep=\"\\n\", end=\"\\n\\n\")\n",
    "# print(\"concatenate a + b:\", np.concatenate((a, b), axis=0), sep=\"\\n\", end=\"\\n\\n\")\n",
    "# print(\"r_, a + b:\", np.r_[(a, b)], sep=\"\\n\", end=\"\\n\\n\")\n",
    "\n",
    "print(\"We can use c_ for mixing matrices and vectors.\")\n",
    "print(\"column_stack, a + c:\", np.column_stack((a, c)), sep=\"\\n\", end=\"\\n\\n\")\n",
    "print(\"c_, a + c:\", np.c_[(a, c)], sep=\"\\n\", end=\"\\n\\n\")\n",
    "# print(\"hstack, a + c:\", np.stack((a, c)), sep=\"\\n\", end=\"\\n\\n\")\n",
    "# print(\"concatenate a + c:\", np.concatenate((a, c), axis=1), sep=\"\\n\", end=\"\\n\\n\")\n",
    "# print(\"stack, a + c:\", np.stack((a, c)), sep=\"\\n\", end=\"\\n\\n\")\n",
    "\n"
   ]
  },
  {
   "cell_type": "code",
   "execution_count": 17,
   "metadata": {},
   "outputs": [
    {
     "name": "stdout",
     "output_type": "stream",
     "text": [
      "vstack, a + b:\n",
      "[[0 1 2]\n",
      " [3 4 5]]\n",
      "\n",
      "hstack, a + b:\n",
      "[0 1 2 3 4 5]\n",
      "\n",
      "column_stack, a + b:\n",
      "[[0 3]\n",
      " [1 4]\n",
      " [2 5]]\n",
      "\n"
     ]
    }
   ],
   "source": [
    "a = np.arange(3)\n",
    "b = np.arange(3, 6)\n",
    "print(\"vstack, a + b:\", np.vstack((a, b)), sep=\"\\n\", end=\"\\n\\n\")\n",
    "print(\"hstack, a + b:\", np.hstack((a, b)), sep=\"\\n\", end=\"\\n\\n\")\n",
    "print(\"column_stack, a + b:\", np.column_stack((a, b)), sep=\"\\n\", end=\"\\n\\n\")"
   ]
  },
  {
   "cell_type": "code",
   "execution_count": 12,
   "metadata": {},
   "outputs": [
    {
     "name": "stdout",
     "output_type": "stream",
     "text": [
      "stack, a + b:\n",
      "[[[ 0.  1.  2.  3.]\n",
      "  [ 4.  5.  6.  7.]\n",
      "  [ 8.  9. 10. 11.]]\n",
      "\n",
      " [[ 0.  0.  0.  0.]\n",
      "  [ 0.  0.  0.  0.]\n",
      "  [ 0.  0.  0.  0.]]]\n",
      "\n"
     ]
    }
   ],
   "source": [
    "# Use \"stack\" if you want to add a dimension (combine matrixes to sheets of matrixes)\n",
    "\n",
    "a = np.arange(12).reshape(3,4)\n",
    "b = np.zeros(12).reshape(3,4)\n",
    "print(\"stack, a + b:\", np.stack((a, b)), sep=\"\\n\", end=\"\\n\\n\")\n",
    "\n"
   ]
  },
  {
   "cell_type": "code",
   "execution_count": 23,
   "metadata": {},
   "outputs": [
    {
     "name": "stdout",
     "output_type": "stream",
     "text": [
      "vstack, a + b:\n",
      "[[0 1 2]\n",
      " [3 4 5]]\n",
      "\n",
      "c_, a + b:\n",
      "[[0 3]\n",
      " [1 4]\n",
      " [2 5]]\n",
      "\n",
      "stack, a + b:\n",
      "[[0 3]\n",
      " [1 4]\n",
      " [2 5]]\n",
      "\n"
     ]
    }
   ],
   "source": [
    "a = np.arange(3)\n",
    "b = np.arange(3, 6)\n",
    "print(\"vstack, a + b:\", np.vstack((a, b)), sep=\"\\n\", end=\"\\n\\n\")\n",
    "print(\"c_, a + b:\", np.c_[(a, b)], sep=\"\\n\", end=\"\\n\\n\")\n",
    "print(\"stack, a + b:\", np.stack((a, b), axis=1), sep=\"\\n\", end=\"\\n\\n\")\n"
   ]
  },
  {
   "cell_type": "code",
   "execution_count": 21,
   "metadata": {},
   "outputs": [
    {
     "name": "stdout",
     "output_type": "stream",
     "text": [
      "vstack, a + b:\n",
      "[[ 0  1  2  3]\n",
      " [ 4  5  6  7]\n",
      " [ 8  9 10 11]\n",
      " [ 0  1  2  3]\n",
      " [ 4  5  6  7]]\n",
      "\n",
      "hstack, a + c:\n",
      "[[ 0  1  2  3  0  1]\n",
      " [ 4  5  6  7  2  3]\n",
      " [ 8  9 10 11  4  5]]\n",
      "\n"
     ]
    }
   ],
   "source": [
    "a = np.arange(12).reshape(3,4)\n",
    "b = np.arange(8).reshape(2,4)\n",
    "c = np.arange(6).reshape(3,2)\n",
    "print(\"r_, a + b:\", np.r_[(a, b)], sep=\"\\n\", end=\"\\n\\n\")\n",
    "print(\"c_, a + c:\", np.c_[(a, c)], sep=\"\\n\", end=\"\\n\\n\")"
   ]
  },
  {
   "cell_type": "code",
   "execution_count": null,
   "metadata": {},
   "outputs": [],
   "source": []
  }
 ],
 "metadata": {
  "interpreter": {
   "hash": "bcf3281c5f3937c39aeb2c3747f97ae9394c01c2664d205abdebf1bba819a150"
  },
  "kernelspec": {
   "display_name": "Python 3.8.10 ('.venv': venv)",
   "language": "python",
   "name": "python3"
  },
  "language_info": {
   "codemirror_mode": {
    "name": "ipython",
    "version": 3
   },
   "file_extension": ".py",
   "mimetype": "text/x-python",
   "name": "python",
   "nbconvert_exporter": "python",
   "pygments_lexer": "ipython3",
   "version": "3.8.10"
  },
  "orig_nbformat": 4
 },
 "nbformat": 4,
 "nbformat_minor": 2
}
