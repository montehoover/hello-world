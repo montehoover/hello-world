{
 "cells": [
  {
   "cell_type": "code",
   "execution_count": 1,
   "metadata": {},
   "outputs": [],
   "source": [
    "import numpy as np\n",
    "import cv2"
   ]
  },
  {
   "cell_type": "code",
   "execution_count": 9,
   "metadata": {},
   "outputs": [
    {
     "data": {
      "text/plain": [
       "True"
      ]
     },
     "execution_count": 9,
     "metadata": {},
     "output_type": "execute_result"
    }
   ],
   "source": [
    "#read image\n",
    "img_src = cv2.imread('books.png')\n",
    "\n",
    "#prepare the 5x5 shaped filter\n",
    "kernel = np.array([[1, 1, 1, 1, 1], \n",
    "                   [1, 1, 1, 1, 1], \n",
    "                   [1, 1, 1, 1, 1], \n",
    "                   [1, 1, 1, 1, 1], \n",
    "                   [1, 1, 1, 1, 1]])\n",
    "kernel = kernel/np.sum(kernel)\n",
    "\n",
    "#filter the source image\n",
    "img_rst = cv2.filter2D(img_src,-1,kernel)\n",
    "\n",
    "#save result image\n",
    "cv2.imwrite('result.png',img_rst)"
   ]
  },
  {
   "cell_type": "code",
   "execution_count": 5,
   "metadata": {},
   "outputs": [
    {
     "data": {
      "text/plain": [
       "True"
      ]
     },
     "execution_count": 5,
     "metadata": {},
     "output_type": "execute_result"
    }
   ],
   "source": [
    "#edge detection filter\n",
    "kernel = np.array([[0.0, -1.0, 0.0], \n",
    "                   [-1.0, 4.0, -1.0],\n",
    "                   [0.0, -1.0, 0.0]])\n",
    "\n",
    "#filter the source image\n",
    "img_rst = cv2.filter2D(img_src,-1,kernel)\n",
    "\n",
    "#save result image\n",
    "cv2.imwrite('result.png',img_rst)"
   ]
  },
  {
   "cell_type": "code",
   "execution_count": null,
   "metadata": {},
   "outputs": [],
   "source": []
  }
 ],
 "metadata": {
  "interpreter": {
   "hash": "80d40ff1d461ae3474dbc9ebcfed6b34103d7c538025ffd50ea09f7950bff3e5"
  },
  "kernelspec": {
   "display_name": "Python 3.9.12 ('.venv': venv)",
   "language": "python",
   "name": "python3"
  },
  "language_info": {
   "codemirror_mode": {
    "name": "ipython",
    "version": 3
   },
   "file_extension": ".py",
   "mimetype": "text/x-python",
   "name": "python",
   "nbconvert_exporter": "python",
   "pygments_lexer": "ipython3",
   "version": "3.9.12"
  },
  "orig_nbformat": 4
 },
 "nbformat": 4,
 "nbformat_minor": 2
}
