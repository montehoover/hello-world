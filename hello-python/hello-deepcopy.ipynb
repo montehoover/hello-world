{
 "cells": [
  {
   "cell_type": "code",
   "execution_count": 39,
   "metadata": {},
   "outputs": [
    {
     "data": {
      "text/plain": [
       "[3, 2]"
      ]
     },
     "execution_count": 39,
     "metadata": {},
     "output_type": "execute_result"
    }
   ],
   "source": [
    "# See how changing list 'a' affects list 'l' because they both refer to the same object in memory:\n",
    "l = [1, 2]\n",
    "a = l\n",
    "a[0] = 3\n",
    "\n",
    "l"
   ]
  },
  {
   "cell_type": "code",
   "execution_count": 40,
   "metadata": {},
   "outputs": [],
   "source": [
    "# Now compare two functions. The first creates a copy of a list and then modifies the copy. You can see that the\n",
    "# original list passed to the function is not affected.\n",
    "# But in the second function we don't create a copy, rather we create a variable that refers to the same object in memory.\n",
    "# Thus anything that happens to that local variable in the function is also happening the list that we passed to to\n",
    "# the function.\n",
    "def foo(x):\n",
    "    c = x.copy()\n",
    "    c[0] = 100\n",
    "    return c\n",
    "\n",
    "def bar(x):\n",
    "    c = x\n",
    "    c[0] = -100\n",
    "    return c"
   ]
  },
  {
   "cell_type": "code",
   "execution_count": 41,
   "metadata": {},
   "outputs": [
    {
     "data": {
      "text/plain": [
       "[1, 2]"
      ]
     },
     "execution_count": 41,
     "metadata": {},
     "output_type": "execute_result"
    }
   ],
   "source": [
    "l = [1, 2]\n",
    "new = foo(l)\n",
    "l"
   ]
  },
  {
   "cell_type": "code",
   "execution_count": 42,
   "metadata": {},
   "outputs": [
    {
     "data": {
      "text/plain": [
       "[-100, 2]"
      ]
     },
     "execution_count": 42,
     "metadata": {},
     "output_type": "execute_result"
    }
   ],
   "source": [
    "new = bar(l)\n",
    "l"
   ]
  },
  {
   "cell_type": "code",
   "execution_count": 33,
   "metadata": {},
   "outputs": [
    {
     "data": {
      "text/plain": [
       "([1, 2], 42)"
      ]
     },
     "execution_count": 33,
     "metadata": {},
     "output_type": "execute_result"
    }
   ],
   "source": [
    "# Here we see the difference between copy an deepcopy from three functions. We are working with a class called \n",
    "# \"SpecialList\". Classes have the same memory pointing concerns that normal lists do - if we modify a list or an\n",
    "# instance of a class in some function, it modifies the object in memory to which that variable is referring and\n",
    "# thus the change persists outside of the function.\n",
    "\n",
    "# The first function below just demonstrates that behavior. The second and third functions demonstrate the need\n",
    "# for deep copy if you have a list of lists, or list of dicts, or an object containing a list. In the second\n",
    "# function we create a copy. This takes a variable, finds the object in memory it is pointing to, and creates a\n",
    "# second object in memory with the exact same values. The problem is that the object in memory has two types of values:\n",
    "# one is a list and the other is a number. The number is stored just as a value in memory, however the list gets stored\n",
    "# as a value that refers to the actual list object somewhere else in memory. So when we create our copy, the value\n",
    "# of the num is duplicated and stays a simple value, but the value of the list also gets duplicated and it continues\n",
    "# to point to the same object in memory. So we have two blocks of memory for our two SpecialList instances, within\n",
    "# those blocks two values for the \"num\", and two values for the list but there is only one list object in memory and\n",
    "# they are both pointing to that.\n",
    "\n",
    "# Deepcopy comes to the rescue here, and as it copies anything, it looks to see if the values it is copying are primitive\n",
    "# types or if they refer to another object in memory. (Technically python has no primitive types, only types that are\n",
    "# not mutable, but we can think about them the same way.) For any values that refer to another object, it recursively\n",
    "# checks and creates copies of those objects.\n",
    "\n",
    "import copy\n",
    "\n",
    "class SpecialList():\n",
    "    def __init__(self):\n",
    "        self.l = []\n",
    "        self.num = 42\n",
    "\n",
    "def change(special_list):\n",
    "    special_list.l[0] = 100\n",
    "    special_list.num = 66\n",
    "    return special_list\n",
    "\n",
    "def new_change(special_list):\n",
    "    sl = copy.copy(special_list)\n",
    "    sl.l[0] = -100\n",
    "    sl.num = -66\n",
    "    return sl\n",
    "\n",
    "def deep_new_change(special_list):\n",
    "    sl = copy.deepcopy(special_list)\n",
    "    sl.l[0] = -200\n",
    "    sl.num = -266\n",
    "\n",
    "x = SpecialList()\n",
    "x.l = [1, 2]\n",
    "\n",
    "x.l, x.num"
   ]
  },
  {
   "cell_type": "code",
   "execution_count": 36,
   "metadata": {},
   "outputs": [
    {
     "data": {
      "text/plain": [
       "([100, 2], 66)"
      ]
     },
     "execution_count": 36,
     "metadata": {},
     "output_type": "execute_result"
    }
   ],
   "source": [
    "x.l = [1, 2]\n",
    "x.num = 42\n",
    "y = change(x)\n",
    "\n",
    "x.l, x.num"
   ]
  },
  {
   "cell_type": "code",
   "execution_count": 37,
   "metadata": {},
   "outputs": [
    {
     "data": {
      "text/plain": [
       "([-100, 2], 42)"
      ]
     },
     "execution_count": 37,
     "metadata": {},
     "output_type": "execute_result"
    }
   ],
   "source": [
    "\n",
    "x.l = [1, 2]\n",
    "x.num = 42\n",
    "y = new_change(x)\n",
    "\n",
    "x.l, x.num"
   ]
  },
  {
   "cell_type": "code",
   "execution_count": 38,
   "metadata": {},
   "outputs": [
    {
     "data": {
      "text/plain": [
       "([1, 2], 42)"
      ]
     },
     "execution_count": 38,
     "metadata": {},
     "output_type": "execute_result"
    }
   ],
   "source": [
    "x.l = [1, 2]\n",
    "x.num = 42\n",
    "y = deep_new_change(x)\n",
    "\n",
    "x.l, x.num"
   ]
  },
  {
   "cell_type": "code",
   "execution_count": null,
   "metadata": {},
   "outputs": [],
   "source": []
  }
 ],
 "metadata": {
  "kernelspec": {
   "display_name": "Python 3.9.13 ('base')",
   "language": "python",
   "name": "python3"
  },
  "language_info": {
   "codemirror_mode": {
    "name": "ipython",
    "version": 3
   },
   "file_extension": ".py",
   "mimetype": "text/x-python",
   "name": "python",
   "nbconvert_exporter": "python",
   "pygments_lexer": "ipython3",
   "version": "3.9.13"
  },
  "orig_nbformat": 4,
  "vscode": {
   "interpreter": {
    "hash": "f112e02fff862dcd9213e4ce058813e2f1ca2b66f58a2ad154028dc86d0e0000"
   }
  }
 },
 "nbformat": 4,
 "nbformat_minor": 2
}
